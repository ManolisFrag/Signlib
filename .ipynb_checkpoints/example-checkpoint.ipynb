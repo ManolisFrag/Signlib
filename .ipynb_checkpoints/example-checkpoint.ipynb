{
 "cells": [
  {
   "cell_type": "code",
   "execution_count": null,
   "metadata": {},
   "outputs": [],
   "source": [
    "from signlib import video_utils\n",
    "import os"
   ]
  },
  {
   "cell_type": "markdown",
   "metadata": {},
   "source": [
    "### Part 1\n",
    "#### Find annotations in video and split into frames"
   ]
  },
  {
   "cell_type": "code",
   "execution_count": null,
   "metadata": {},
   "outputs": [],
   "source": [
    "video_utils.extract_videos_from_annotations(\"./Raw_videos/annotation_file\",['ANNOTATIONS_TO_BE_EXTRACTED'])"
   ]
  },
  {
   "cell_type": "markdown",
   "metadata": {},
   "source": [
    "#### Apply data augmentation if desired"
   ]
  },
  {
   "cell_type": "code",
   "execution_count": null,
   "metadata": {},
   "outputs": [],
   "source": [
    "from signlib import data_augmentation\n",
    "data_augmentation.apply_in_folders(\"./Data/\")"
   ]
  },
  {
   "cell_type": "markdown",
   "metadata": {},
   "source": [
    "### Part 2\n",
    "#### Finding all the subdirectories and running Openpose demo on each frame folder"
   ]
  },
  {
   "cell_type": "code",
   "execution_count": null,
   "metadata": {},
   "outputs": [],
   "source": [
    "# Run openpose from library\n",
    "from signlib import pose\n",
    "pose.run_openpose(\"PATH/TO/OPENPOSE.EXE\", \"./Data/\")"
   ]
  },
  {
   "cell_type": "code",
   "execution_count": null,
   "metadata": {},
   "outputs": [],
   "source": [
    "import os\n",
    "root = \"./Data/\"\n",
    "first_dir= os.listdir(root) # get all files' and folders' names in the current directory\n",
    "\n",
    "for direc in first_dir:\n",
    "    second_dir = root+\"/\"+direc\n",
    "    second_dir_dir = os.listdir(second_dir)\n",
    "    for final_dir in second_dir_dir:\n",
    "        if (final_dir != \"Videos\"):\n",
    "            directory_to_save = second_dir+\"/\"+final_dir\n",
    "            final_directory = str(directory_to_save)\n",
    "            print(final_directory)\n",
    "            !PATH_TO_OPENPOSE.EXE --image_dir $final_directory --write_images $final_directory --display 0 --model_pose COCO --write_json $final_directory \n"
   ]
  },
  {
   "cell_type": "markdown",
   "metadata": {},
   "source": [
    "### Part 3\n",
    "#### Creating Dataset files"
   ]
  },
  {
   "cell_type": "code",
   "execution_count": null,
   "metadata": {},
   "outputs": [],
   "source": [
    "from signlib import misc2\n",
    "import h5py\n",
    "\n",
    "my_data = misc2.create_dataset(\"./Data/\")\n",
    "h5f = h5py.File('3_class_augmented_scaled.h5', 'w')\n",
    "h5f.create_dataset('dataset_1', data=my_data)\n",
    "h5f.close()"
   ]
  },
  {
   "cell_type": "markdown",
   "metadata": {},
   "source": [
    "### Part 4\n",
    "#### Preprocessing"
   ]
  },
  {
   "cell_type": "code",
   "execution_count": null,
   "metadata": {},
   "outputs": [],
   "source": [
    "from signlib import misc2\n",
    "import pandas as pd"
   ]
  },
  {
   "cell_type": "code",
   "execution_count": null,
   "metadata": {},
   "outputs": [],
   "source": [
    "window = 3\n",
    "df = misc2.create_dataframe_with_window('augmented_data.h5', window)"
   ]
  },
  {
   "cell_type": "code",
   "execution_count": null,
   "metadata": {},
   "outputs": [],
   "source": [
    "import numpy as np\n",
    "from keras.utils import to_categorical\n",
    "\n",
    "for n in range(df[\"Windowed_poses\"].shape[0]):\n",
    "    df[\"Windowed_poses\"].iloc[n] = np.hstack(df[\"Windowed_poses\"].iloc[n]).reshape((window,14))\n",
    "    \n",
    "data = np.hstack(df[\"Windowed_poses\"]).reshape((df[\"Windowed_poses\"].shape[0],window,14))\n",
    "labels = df[\"Class\"].values.flatten()\n",
    "#Change if binary\n",
    "labels = labels.reshape((df[\"Class\"].shape[0],1))\n",
    "#labels = to_categorical(labels)\n",
    "print(\"shape of data: \",data.shape)\n",
    "print(\"shape of values: \",labels.shape)"
   ]
  }
 ],
 "metadata": {
  "kernelspec": {
   "display_name": "Python 3",
   "language": "python",
   "name": "python3"
  },
  "language_info": {
   "codemirror_mode": {
    "name": "ipython",
    "version": 3
   },
   "file_extension": ".py",
   "mimetype": "text/x-python",
   "name": "python",
   "nbconvert_exporter": "python",
   "pygments_lexer": "ipython3",
   "version": "3.5.6"
  }
 },
 "nbformat": 4,
 "nbformat_minor": 2
}
